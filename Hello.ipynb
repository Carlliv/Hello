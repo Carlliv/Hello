{
  "nbformat": 4,
  "nbformat_minor": 0,
  "metadata": {
    "colab": {
      "provenance": [],
      "authorship_tag": "ABX9TyMFoLkg2PC7VOpt9oVCyjX1"
    },
    "kernelspec": {
      "name": "python3",
      "display_name": "Python 3"
    },
    "language_info": {
      "name": "python"
    }
  },
  "cells": [
    {
      "cell_type": "code",
      "execution_count": 4,
      "metadata": {
        "colab": {
          "base_uri": "https://localhost:8080/"
        },
        "id": "OdZyuuf9Y208",
        "outputId": "1e733672-ebad-4e2b-fb96-0a98fbc5e4e9"
      },
      "outputs": [
        {
          "output_type": "stream",
          "name": "stdout",
          "text": [
            "CARLOS RODRIGO URCHURTU MORALES   ¡HELLO WORLD!\n"
          ]
        }
      ],
      "source": [
        "print('CARLOS RODRIGO URCHURTU MORALES   ¡HELLO WORLD!')"
      ]
    }
  ]
}